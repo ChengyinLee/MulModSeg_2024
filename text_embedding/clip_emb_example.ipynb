{
 "cells": [
  {
   "cell_type": "code",
   "execution_count": 2,
   "metadata": {},
   "outputs": [
    {
     "name": "stdout",
     "output_type": "stream",
     "text": [
      "A magnetic resonance imaging.\n",
      "torch.Size([14, 512]) torch.float16\n",
      "A computed tomography imaging.\n",
      "torch.Size([14, 512]) torch.float16\n",
      "torch.Size([2, 14, 512])\n"
     ]
    }
   ],
   "source": [
    "# text embeding with clip\n",
    "import os\n",
    "import clip\n",
    "import torch\n",
    "\n",
    "device = \"cuda\" if torch.cuda.is_available() else \"cpu\"\n",
    "model, preprocess = clip.load('ViT-B/32', device)\n",
    "\n",
    "MOD = {'MR': 'magnetic resonance imaging', 'CT': 'computed tomography imaging'}\n",
    "CLS = ['background','spleen', 'right kidney', 'left kidney', 'gall bladder',\n",
    "        'esophagus', 'liver', 'stomach', 'arota', 'postcava', 'pancreas',\n",
    "        'right adrenal gland', 'left adrenal gland', 'duodenum'] \n",
    "\n",
    "txt_encoding = []\n",
    "with torch.no_grad():\n",
    "    for mod in MOD:\n",
    "        print(f'A {MOD[mod]}.')\n",
    "        \n",
    "        ## CLIP V3\n",
    "        # text_inputs = torch.cat([clip.tokenize(f'A {MOD[mod]} of a {item}.') for item in CLS]).to(device)\n",
    "        ## CLIP V1\n",
    "        # text_inputs = torch.cat([clip.tokenize(f'A photo of a {item}.') for item in CLS]).to(device)\n",
    "        ## CLIP V2\n",
    "        text_inputs = torch.cat([clip.tokenize(f'There is a {item} in this {MOD[mod]}.') for item in CLS]).to(device)\n",
    "        \n",
    "        text_features = model.encode_text(text_inputs)\n",
    "        print(text_features.shape, text_features.dtype)\n",
    "        txt_encoding.append(text_features)\n",
    "\n",
    "mod_cls_txt_encoding = torch.stack(txt_encoding)\n",
    "print(mod_cls_txt_encoding.shape)\n",
    "torch.save(mod_cls_txt_encoding, 'mod_cls_txt_encoding.pth')"
   ]
  },
  {
   "cell_type": "code",
   "execution_count": null,
   "metadata": {},
   "outputs": [],
   "source": []
  }
 ],
 "metadata": {
  "kernelspec": {
   "display_name": "torch20",
   "language": "python",
   "name": "python3"
  },
  "language_info": {
   "codemirror_mode": {
    "name": "ipython",
    "version": 3
   },
   "file_extension": ".py",
   "mimetype": "text/x-python",
   "name": "python",
   "nbconvert_exporter": "python",
   "pygments_lexer": "ipython3",
   "version": "3.9.16"
  }
 },
 "nbformat": 4,
 "nbformat_minor": 4
}
